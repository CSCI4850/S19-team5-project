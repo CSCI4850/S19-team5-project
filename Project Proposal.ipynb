{
 "cells": [
  {
   "cell_type": "markdown",
   "metadata": {},
   "source": [
    "__NEURAL NETWORKS__"
   ]
  },
  {
   "cell_type": "markdown",
   "metadata": {},
   "source": [
    "__TEAM 5: GAN – PROJECT PROPOSAL__"
   ]
  },
  {
   "cell_type": "markdown",
   "metadata": {},
   "source": [
    "__MEMBERS: Daniel Chang, David Justice, Puran Nepal, Yousaf Khaliq__"
   ]
  },
  {
   "cell_type": "markdown",
   "metadata": {},
   "source": [
    "__PROJECT: Neural Network Chess Engine__"
   ]
  },
  {
   "cell_type": "markdown",
   "metadata": {},
   "source": [
    "The goal of our project is to create a chess engine which uses a neural network to evaluate chess positions. Like human players, chess engines rely on some form of _positional understanding_ (a.k.a. “intuition”)  in order to determine which moves in the current position seem most promising for further investigation. A chess engine's positional understanding is encapsulated in its evaluation function, which accepts as input the current board position and outputs its prefered move along with a numeric score indicating the magnitude of advantage to White or Black. A positive score implies an advantage to White, a negative score implies an advantage to Black, and a score close to zero implies roughly equal chances for both sides."
   ]
  },
  {
   "cell_type": "markdown",
   "metadata": {},
   "source": [
    "We intend to use a neural network to develop our engine's chess intuition without any prior knowledge except the basic rules of the game. Its inputs will represent the current position in a chess game, and it will output either its top move choice, or its numeric evaluation of the current position, or both. If the intended purpose of a chess engine is to facilitate analysis, then it absolutely should provide numeric evaluations; however, if its purpose is simply to play the strongest moves, then providing numeric evaluations is unnecessary."
   ]
  },
  {
   "cell_type": "markdown",
   "metadata": {},
   "source": [
    "A significant portion of our work will consist of research and experimentation to determine the optimal network architecture for training a chess engine. Regardless of the architecture, the network will be trained on a large set of chess positions which have been previously evaluated by a separate very strong chess engine, such as Stockfish, and made to conform to its evaluations. Alternatively, positions can be selected randomly from the games of very strong human players with their chosen moves set as target outputs. We do not anticipate any difficulty finding large data sets of chess positions which have already been evaluated, and more data can easily be generated if needed."
   ]
  },
  {
   "cell_type": "markdown",
   "metadata": {},
   "source": [
    "After training is completed, the competency of our chess engine will be determined through competition with other available engines of various playing-strengths. The results of these games will then be used to approximate our engine's ELO rating. Given our hardware limitations (e.g. our lack of a super-computer) and somewhat short training time compared to other available engines, our expectations are modest. We hope to achieve an ELO rating of at least 2000, which for a human player would be considered an expert rating. Considering the fact that chess computers have outperformed humans for decades now, and the strongest engines to date have ratings around ELO 3600, this should be possible."
   ]
  },
  {
   "cell_type": "markdown",
   "metadata": {},
   "source": [
    "We will also have to conduct research to find the most reasonable algorithm for a neural network engine to use in order to efficiently calculate variations. Unlike engines which use traditional hard-coded evaluation criteria based on classic (human) chess principles, a neural network will likely have to exert more computational effort in order to produce an output for any given input. Therefore, calculating variations to the same depth as traditional engines will be too computationally expensive. But presumably this disadvantage of slower calculations will be offset by a more nuanced grasp of positional chess features than a normal engine can discern."
   ]
  },
  {
   "cell_type": "markdown",
   "metadata": {},
   "source": [
    "There currently seems to be some debate among those in the field of machine learning about whether neural networks are actually well-suited to the task of playing chess or whether chess is just an impractical application. We hope this project will shed further light on that topic."
   ]
  }
 ],
 "metadata": {
  "kernelspec": {
   "display_name": "Python 3",
   "language": "python",
   "name": "python3"
  },
  "language_info": {
   "codemirror_mode": {
    "name": "ipython",
    "version": 3
   },
   "file_extension": ".py",
   "mimetype": "text/x-python",
   "name": "python",
   "nbconvert_exporter": "python",
   "pygments_lexer": "ipython3",
   "version": "3.6.8"
  }
 },
 "nbformat": 4,
 "nbformat_minor": 2
}
