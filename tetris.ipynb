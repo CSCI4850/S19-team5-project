{
 "cells": [
  {
   "cell_type": "code",
   "execution_count": 1,
   "metadata": {
    "scrolled": true
   },
   "outputs": [
    {
     "name": "stderr",
     "output_type": "stream",
     "text": [
      "c:\\users\\nhz04\\appdata\\local\\programs\\python\\python36\\lib\\site-packages\\h5py\\__init__.py:36: FutureWarning: Conversion of the second argument of issubdtype from `float` to `np.floating` is deprecated. In future, it will be treated as `np.float64 == np.dtype(float).type`.\n",
      "  from ._conv import register_converters as _register_converters\n",
      "Using TensorFlow backend.\n"
     ]
    }
   ],
   "source": [
    "# OpenAI Gym\n",
    "import gym_tetris as gym\n",
    "import gym.spaces\n",
    "import numpy as np\n",
    "import keras\n",
    "import cv2\n",
    "\n",
    "# Rendering tools\n",
    "import matplotlib.pyplot as plt\n",
    "%matplotlib inline\n",
    "from IPython.display import display\n",
    "from IPython.display import clear_output"
   ]
  },
  {
   "cell_type": "code",
   "execution_count": null,
   "metadata": {},
   "outputs": [],
   "source": []
  },
  {
   "cell_type": "code",
   "execution_count": 2,
   "metadata": {},
   "outputs": [
    {
     "data": {
      "text/plain": [
       "(108, 82, 3)"
      ]
     },
     "metadata": {},
     "output_type": "display_data"
    },
    {
     "data": {
      "image/png": "[encoded data removed]",
      "text/plain": [
       "<Figure size 432x288 with 1 Axes>"
      ]
     },
     "metadata": {
      "needs_background": "light"
     },
     "output_type": "display_data"
    }
   ],
   "source": [
    "# Load the cart-pole environment\n",
    "env = gym.make('Tetris-v0')\n",
    "\n",
    "downsize = (82,108)\n",
    "\n",
    "# Reinitialize the environment for an episode\n",
    "observation = env.reset()\n",
    "observation = cv2.resize(observation, dsize=downsize, interpolation = cv2.INTER_CUBIC)\n",
    "# Look at the features the agent will observe during training...\n",
    "display(observation.shape)\n",
    "\n",
    "# Render the scene for our visualization purposes...\n",
    "#plt.imshow(env.render(mode='rgb_array'))\n",
    "#plt.title(\"New Episode\") \n",
    "#plt.show()\n",
    "plt.imshow(observation)\n",
    "plt.title(\"New Episode\")\n",
    "plt.show()"
   ]
  },
  {
   "cell_type": "code",
   "execution_count": 3,
   "metadata": {
    "scrolled": false
   },
   "outputs": [
    {
     "data": {
      "text/plain": [
       "(108, 82, 3)"
      ]
     },
     "metadata": {},
     "output_type": "display_data"
    },
    {
     "data": {
      "text/plain": [
       "12"
      ]
     },
     "metadata": {},
     "output_type": "display_data"
    }
   ],
   "source": [
    "# Shape of the observation vectors\n",
    "display(observation.shape)\n",
    "\n",
    "# Number of possible actions\n",
    "display(env.action_space.n)"
   ]
  },
  {
   "cell_type": "code",
   "execution_count": 4,
   "metadata": {
    "scrolled": true
   },
   "outputs": [
    {
     "data": {
      "image/png": "[encoded data removed]",
      "text/plain": [
       "<Figure size 432x288 with 1 Axes>"
      ]
     },
     "metadata": {
      "needs_background": "light"
     },
     "output_type": "display_data"
    }
   ],
   "source": [
    "\n",
    "# Initialize the environment and perform 10 random actions\n",
    "env.reset()\n",
    "reward = 0.0\n",
    "for time in range(100):\n",
    "    plt.imshow(cv2.resize(env.render(mode='rgb_array'),dsize=downsize,interpolation = cv2.INTER_CUBIC))\n",
    "    plt.title(\"%s | Time: %d | Reward: %f\" % (env.spec.id, time, reward))\n",
    "    clear_output(wait=True)\n",
    "    display(plt.gcf())\n",
    "    observation, reward, done, info = env.step(np.random.choice(env.action_space.n)) # take a random action\n",
    "    if (done):\n",
    "        break\n",
    "clear_output(wait=True)"
   ]
  },
  {
   "cell_type": "code",
   "execution_count": 5,
   "metadata": {
    "scrolled": true
   },
   "outputs": [
    {
     "name": "stdout",
     "output_type": "stream",
     "text": [
      "_________________________________________________________________\n",
      "Layer (type)                 Output Shape              Param #   \n",
      "=================================================================\n",
      "conv2d_1 (Conv2D)            (None, 75, 101, 32)       6176      \n",
      "_________________________________________________________________\n",
      "conv2d_2 (Conv2D)            (None, 68, 94, 64)        131136    \n",
      "_________________________________________________________________\n",
      "max_pooling2d_1 (MaxPooling2 (None, 34, 47, 64)        0         \n",
      "_________________________________________________________________\n",
      "dropout_1 (Dropout)          (None, 34, 47, 64)        0         \n",
      "_________________________________________________________________\n",
      "flatten_1 (Flatten)          (None, 102272)            0         \n",
      "_________________________________________________________________\n",
      "dense_1 (Dense)              (None, 20)                2045460   \n",
      "_________________________________________________________________\n",
      "dense_2 (Dense)              (None, 12)                252       \n",
      "=================================================================\n",
      "Total params: 2,183,024\n",
      "Trainable params: 2,183,024\n",
      "Non-trainable params: 0\n",
      "_________________________________________________________________\n"
     ]
    }
   ],
   "source": [
    "# A simple multilayer architecture....\n",
    "def make_model(state, action_size):\n",
    "    model = keras.Sequential()\n",
    "    model.add(keras.layers.Conv2D(32, kernel_size=(8, 8), activation='relu',\n",
    "                                    input_shape=[downsize[0],\n",
    "                                    downsize[1],\n",
    "                                    state.shape[2]]))\n",
    "    model.add(keras.layers.Conv2D(64, (8, 8), activation='relu'))\n",
    "    model.add(keras.layers.MaxPooling2D(pool_size=(2, 2)))\n",
    "    model.add(keras.layers.Dropout(0.2))\n",
    "    model.add(keras.layers.Flatten())\n",
    "    model.add(keras.layers.Dense(20, activation='relu'))\n",
    "    model.add(keras.layers.Dense(action_size, activation='linear'))\n",
    "    model.compile(loss='mse',optimizer=keras.optimizers.Adam(lr=0.001))\n",
    "    return model\n",
    "\n",
    "model = make_model(cv2.resize(env.reset(), dsize=downsize, interpolation = cv2.INTER_CUBIC), env.action_space.n)\n",
    "model.summary()"
   ]
  },
  {
   "cell_type": "code",
   "execution_count": 6,
   "metadata": {},
   "outputs": [
    {
     "data": {
      "text/plain": [
       "array([[-18.382645 ,   2.7545547,  14.301205 ,  23.90409  ,  11.156364 ,\n",
       "        -16.15345  ,  19.17067  ,  26.44074  , -18.0085   , -10.319019 ,\n",
       "        -24.273376 , -10.147289 ]], dtype=float32)"
      ]
     },
     "execution_count": 6,
     "metadata": {},
     "output_type": "execute_result"
    }
   ],
   "source": [
    "# Turn our observation vector into a matrix of observations\n",
    "# with only -one- observation and run predict()\n",
    "Q = model.predict(np.expand_dims(cv2.resize(observation, dsize=(108,82), interpolation = cv2.INTER_CUBIC),axis=0))\n",
    "Q"
   ]
  },
  {
   "cell_type": "code",
   "execution_count": 7,
   "metadata": {
    "scrolled": true
   },
   "outputs": [
    {
     "data": {
      "text/plain": [
       "7"
      ]
     },
     "execution_count": 7,
     "metadata": {},
     "output_type": "execute_result"
    }
   ],
   "source": [
    "np.argmax(Q)"
   ]
  },
  {
   "cell_type": "code",
   "execution_count": 8,
   "metadata": {},
   "outputs": [
    {
     "data": {
      "text/plain": [
       "7"
      ]
     },
     "execution_count": 8,
     "metadata": {},
     "output_type": "execute_result"
    }
   ],
   "source": [
    "# Example e-soft policy...\n",
    "epsilon = 0.5 # Half of the time, a random action is chosen...\n",
    "action = np.random.choice(env.action_space.n) if np.random.random() < epsilon else np.argmax(Q)\n",
    "action"
   ]
  },
  {
   "cell_type": "code",
   "execution_count": 9,
   "metadata": {
    "scrolled": true
   },
   "outputs": [],
   "source": [
    "\n",
    "# Initialize the environment and let the agent decide!\n",
    "observation = env.reset()\n",
    "observation = cv2.resize(observation, dsize=downsize, interpolation = cv2.INTER_CUBIC)\n",
    "epsilon = 1 # No exploration!\n",
    "reward = 0.0\n",
    "#for time in range(50):\n",
    "#    plt.imshow(env.render(mode='rgb_array'))\n",
    "#    plt.title(\"%s | Time: %d | Reward: %f\" % (env.spec.id, time, reward))\n",
    "#    clear_output(wait=True)\n",
    "#    display(plt.gcf())\n",
    "#    Q = model.predict(np.expand_dims(observation,axis=0)) # Compute Q\n",
    "#    action = np.random.choice(env.action_space.n) if np.random.random() < epsilon else np.argmax(Q)\n",
    "#    observation, reward, done, info = env.step(action) # take action!\n",
    "#    if (done):\n",
    "#        break\n",
    "#clear_output(wait=True)"
   ]
  },
  {
   "cell_type": "code",
   "execution_count": 10,
   "metadata": {},
   "outputs": [],
   "source": [
    "\n",
    "# Step 1 - Replay Memory Class\n",
    "class ReplayMemory:\n",
    "    def __init__(self, memory_size, state_size, action_size):\n",
    "        self.state_size = [state_size.shape[0], state_size.shape[1], state_size.shape[2]]\n",
    "        self.action_size = action_size\n",
    "        self.size = 0\n",
    "        self.maxsize = memory_size\n",
    "        self.current_index = 0\n",
    "        self.current_state = np.zeros([memory_size, self.state_size[0], self.state_size[1], \n",
    "                                       self.state_size[2]])\n",
    "        self.action = [0]*memory_size # Remember, actions are integers...\n",
    "        self.reward = np.zeros([memory_size])\n",
    "        self.next_state = np.zeros([memory_size, self.state_size[0], self.state_size[1], \n",
    "                                       self.state_size[2]])\n",
    "        self.done = [False]*memory_size # Boolean (terminal transition?)\n",
    "        \n",
    "    def remember(self, current_state, action, reward, next_state, done):\n",
    "        # Stores a single memory item\n",
    "        self.current_state[self.current_index,:] = current_state\n",
    "        self.action[self.current_index] = action\n",
    "        self.reward[self.current_index] = reward\n",
    "        self.next_state[self.current_index,:] = next_state\n",
    "        self.done[self.current_index] = done\n",
    "        self.current_index = (self.current_index+1)%self.maxsize\n",
    "        self.size = max(self.current_index,self.size)\n",
    "    \n",
    "    def replay(self, model, target_model, num_samples, sample_size, gamma):\n",
    "        # Run replay!\n",
    "        \n",
    "        # Can't train if we don't yet have enough samples to begin with...\n",
    "        if self.size < sample_size:\n",
    "            return\n",
    "        \n",
    "        for i in range(num_samples):\n",
    "            # Select sample_size memory indices from the whole set\n",
    "            current_sample = np.random.choice(self.size,sample_size,replace=False)\n",
    "            \n",
    "            # Slice memory into training sample\n",
    "            current_state = self.current_state[current_sample,:]\n",
    "            action = [self.action[j] for j in current_sample]\n",
    "            reward = self.reward[current_sample]\n",
    "            next_state = self.next_state[current_sample,:]\n",
    "            done = [self.done[j] for j in current_sample]\n",
    "            \n",
    "            # Obtain model's current Q-values\n",
    "            #\n",
    "            #\n",
    "            # Here's the issue \n",
    "            # model_targets, targets, model.fit will require valid game state to make prediction\n",
    "            #\n",
    "            #\n",
    "            if current_state.size == 8856:\n",
    "                model_targets = model.predict(cv2.resize(current_state, dsize=(108,82), interpolation = cv2.INTER_CUBIC))\n",
    "            elif next_state.size == 8856:\n",
    "                model_targets = model.predict(cv2.resize(next_state, dsize=downsize, interpolation = cv2.INTER_CUBIC))\n",
    "            \n",
    "            # Create targets from argmax(Q(s+1,a+1))\n",
    "            # Use the target model!\n",
    "            if next_state.size == 8856:\n",
    "                targets = reward + gamma*np.amax(target_model.predict(cv2.resize(next_state, dsize=downsize, interpolation = cv2.INTER_CUBIC)),axis=1)\n",
    "            else:\n",
    "                targets = reward #This is an issue and definitely shouldn't be this\n",
    "            # Absorb the reward on terminal state-action transitions\n",
    "            targets[done] = reward[done]\n",
    "            # Update just the relevant parts of the model_target vector...\n",
    "            model_targets[range(sample_size),action] = targets\n",
    "            \n",
    "            # Update the weights accordingly\n",
    "            if current_state == 8856:\n",
    "                model.fit(cv2.resize(current_state, dsize=downsize, interpolation = cv2.INTER_CUBIC),model_targets,\n",
    "                         epochs=1,verbose=0,batch_size=sample_size)\n",
    "            \n",
    "        # Once we have finished training, update the target model\n",
    "        target_model.set_weights(model.get_weights())"
   ]
  },
  {
   "cell_type": "code",
   "execution_count": 12,
   "metadata": {},
   "outputs": [],
   "source": [
    "\n",
    "# Full setup for the task...\n",
    "\n",
    "# For keeping track of performance\n",
    "from collections import deque\n",
    "\n",
    "# Hyperparameters\n",
    "gamma = 0.95\n",
    "epsilon = 1.0\n",
    "epsilon_decay = 0.99\n",
    "epsilon_min = 0.01\n",
    "episodes = 1\n",
    "\n",
    "replay_iterations = 100\n",
    "replay_sample_size = 256\n",
    "\n",
    "# Peformance stats\n",
    "times_window = deque(maxlen=100)\n",
    "mean_times = deque(maxlen=episodes)\n",
    "\n",
    "# Initialize the environment and agent data structures\n",
    "env = gym.make('Tetris-v0')\n",
    "model = make_model(env.reset(), env.action_space.n)\n",
    "target_model = make_model(env.reset(), env.action_space.n)\n",
    "memory = ReplayMemory(700, env.reset(), env.action_space.n)"
   ]
  },
  {
   "cell_type": "code",
   "execution_count": 13,
   "metadata": {
    "scrolled": false
   },
   "outputs": [
    {
     "name": "stdout",
     "output_type": "stream",
     "text": [
      "\r",
      "Episode 1/1 - time: 999, mean-time: 999, epsilon: 0.990000"
     ]
    },
    {
     "ename": "UnboundLocalError",
     "evalue": "local variable 'model_targets' referenced before assignment",
     "output_type": "error",
     "traceback": [
      "\u001b[1;31m---------------------------------------------------------------------------\u001b[0m",
      "\u001b[1;31mUnboundLocalError\u001b[0m                         Traceback (most recent call last)",
      "\u001b[1;32m<ipython-input-13-82afe1e887b6>\u001b[0m in \u001b[0;36m<module>\u001b[1;34m\u001b[0m\n\u001b[0;32m     20\u001b[0m \u001b[1;33m\u001b[0m\u001b[0m\n\u001b[0;32m     21\u001b[0m     \u001b[1;31m# Training...\u001b[0m\u001b[1;33m\u001b[0m\u001b[1;33m\u001b[0m\u001b[1;33m\u001b[0m\u001b[0m\n\u001b[1;32m---> 22\u001b[1;33m     \u001b[0mmemory\u001b[0m\u001b[1;33m.\u001b[0m\u001b[0mreplay\u001b[0m\u001b[1;33m(\u001b[0m\u001b[0mmodel\u001b[0m\u001b[1;33m,\u001b[0m\u001b[0mtarget_model\u001b[0m\u001b[1;33m,\u001b[0m\u001b[0mreplay_iterations\u001b[0m\u001b[1;33m,\u001b[0m\u001b[0mreplay_sample_size\u001b[0m\u001b[1;33m,\u001b[0m\u001b[0mgamma\u001b[0m\u001b[1;33m)\u001b[0m\u001b[1;33m\u001b[0m\u001b[1;33m\u001b[0m\u001b[0m\n\u001b[0m\u001b[0;32m     23\u001b[0m \u001b[0mprint\u001b[0m\u001b[1;33m(\u001b[0m\u001b[1;33m)\u001b[0m\u001b[1;33m\u001b[0m\u001b[1;33m\u001b[0m\u001b[0m\n",
      "\u001b[1;32m<ipython-input-10-6cc213dd24e9>\u001b[0m in \u001b[0;36mreplay\u001b[1;34m(self, model, target_model, num_samples, sample_size, gamma)\u001b[0m\n\u001b[0;32m     59\u001b[0m             \u001b[0mtargets\u001b[0m\u001b[1;33m[\u001b[0m\u001b[0mdone\u001b[0m\u001b[1;33m]\u001b[0m \u001b[1;33m=\u001b[0m \u001b[0mreward\u001b[0m\u001b[1;33m[\u001b[0m\u001b[0mdone\u001b[0m\u001b[1;33m]\u001b[0m\u001b[1;33m\u001b[0m\u001b[1;33m\u001b[0m\u001b[0m\n\u001b[0;32m     60\u001b[0m             \u001b[1;31m# Update just the relevant parts of the model_target vector...\u001b[0m\u001b[1;33m\u001b[0m\u001b[1;33m\u001b[0m\u001b[1;33m\u001b[0m\u001b[0m\n\u001b[1;32m---> 61\u001b[1;33m             \u001b[0mmodel_targets\u001b[0m\u001b[1;33m[\u001b[0m\u001b[0mrange\u001b[0m\u001b[1;33m(\u001b[0m\u001b[0msample_size\u001b[0m\u001b[1;33m)\u001b[0m\u001b[1;33m,\u001b[0m\u001b[0maction\u001b[0m\u001b[1;33m]\u001b[0m \u001b[1;33m=\u001b[0m \u001b[0mtargets\u001b[0m\u001b[1;33m\u001b[0m\u001b[1;33m\u001b[0m\u001b[0m\n\u001b[0m\u001b[0;32m     62\u001b[0m \u001b[1;33m\u001b[0m\u001b[0m\n\u001b[0;32m     63\u001b[0m             \u001b[1;31m# Update the weights accordingly\u001b[0m\u001b[1;33m\u001b[0m\u001b[1;33m\u001b[0m\u001b[1;33m\u001b[0m\u001b[0m\n",
      "\u001b[1;31mUnboundLocalError\u001b[0m: local variable 'model_targets' referenced before assignment"
     ]
    }
   ],
   "source": [
    "\n",
    "# Perform the training!\n",
    "for episode in range(episodes):\n",
    "    current_state = env.reset()\n",
    "    for time in range(1000):\n",
    "        Q = model.predict(np.expand_dims(cv2.resize(current_state, dsize=(108,82), interpolation = cv2.INTER_CUBIC), axis=0)) # Compute Q\n",
    "        action = np.random.choice(env.action_space.n) if np.random.random() < epsilon else np.argmax(Q)\n",
    "        next_state, reward, done, info = env.step(action) # take action!\n",
    "        if done:\n",
    "            reward = -10.0\n",
    "        memory.remember(current_state, action,reward,next_state,done) # Store in memory...\n",
    "        current_state = next_state # Transition to next state!\n",
    "        if (done):\n",
    "            break\n",
    "    epsilon = epsilon * epsilon_decay if epsilon > epsilon_min else epsilon_min\n",
    "    times_window.append(time)\n",
    "    mean_time = np.mean(times_window)\n",
    "    mean_times.append(mean_time)\n",
    "    print('\\rEpisode %d/%d - time: %d, mean-time: %d, epsilon: %f'%(episode+1,episodes,time,mean_time,epsilon),end='')\n",
    "    \n",
    "    # Training...\n",
    "    memory.replay(model,target_model,replay_iterations,replay_sample_size,gamma)\n",
    "print()"
   ]
  },
  {
   "cell_type": "code",
   "execution_count": null,
   "metadata": {
    "scrolled": true
   },
   "outputs": [],
   "source": [
    "\n",
    "# Plot results\n",
    "plt.plot(mean_times)\n",
    "plt.title(\"Cart-pole Q-Learning Performance\")\n",
    "plt.xlabel(\"Episode Number\")\n",
    "plt.ylabel(\"Average # Steps [N=100]\")\n",
    "plt.show()"
   ]
  },
  {
   "cell_type": "code",
   "execution_count": null,
   "metadata": {},
   "outputs": [],
   "source": [
    "\n",
    "# Test out the agent!\n",
    "# Initialize the environment and let the agent decide how to act!\n",
    "observation = env.reset()\n",
    "for time in range(50):\n",
    "    plt.imshow(env.render(mode='rgb_array'))\n",
    "    plt.title(\"%s | Time: %d | Reward: %f\" % (env.spec.id, time, reward))\n",
    "    clear_output(wait=True)\n",
    "    display(plt.gcf())\n",
    "    Q = model.predict(np.expand_dims(observation,axis=0)) # Compute Q\n",
    "    action = np.argmax(Q)\n",
    "    observation, reward, done, info = env.step(action) # take action!\n",
    "    if (done):\n",
    "        break\n",
    "clear_output(wait=True)"
   ]
  }
 ],
 "metadata": {
  "kernelspec": {
   "display_name": "Python 3",
   "language": "python",
   "name": "python3"
  }
 },
 "nbformat": 4,
 "nbformat_minor": 2
}
