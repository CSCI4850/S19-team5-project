{
 "cells": [
  {
   "cell_type": "code",
   "execution_count": 79,
   "metadata": {},
   "outputs": [],
   "source": [
    "# OpenAI Gym\n",
    "import gym_tetris as gym\n",
    "import gym.spaces\n",
    "import numpy as np\n",
    "import keras\n",
    "\n",
    "# Rendering tools\n",
    "import matplotlib.pyplot as plt\n",
    "%matplotlib inline\n",
    "from IPython.display import display\n",
    "from IPython.display import clear_output\n",
    "import cv2"
   ]
  },
  {
   "cell_type": "code",
   "execution_count": 80,
   "metadata": {},
   "outputs": [],
   "source": [
    "env = gym.make('Tetris-v0')\n",
    "downsize = (10,20)\n",
    "observation=env.reset()"
   ]
  },
  {
   "cell_type": "code",
   "execution_count": 81,
   "metadata": {},
   "outputs": [],
   "source": [
    "def resize(img,downsize):\n",
    "    resized = cv2.resize(img,\n",
    "                         dsize=downsize,\n",
    "                         interpolation=cv2.INTER_CUBIC)\n",
    "    return resized"
   ]
  },
  {
   "cell_type": "code",
   "execution_count": 82,
   "metadata": {},
   "outputs": [
    {
     "data": {
      "text/plain": [
       "(20, 10, 3)"
      ]
     },
     "metadata": {},
     "output_type": "display_data"
    },
    {
     "data": {
      "text/plain": [
       "600"
      ]
     },
     "metadata": {},
     "output_type": "display_data"
    }
   ],
   "source": [
    "resized_observation = resize(observation[17:423,7:212],downsize)\n",
    "in_size = resized_observation.shape\n",
    "obs_size = resized_observation.size\n",
    "action_space = 6\n",
    "display(in_size)\n",
    "display(obs_size)"
   ]
  },
  {
   "cell_type": "code",
   "execution_count": 83,
   "metadata": {},
   "outputs": [
    {
     "name": "stdout",
     "output_type": "stream",
     "text": [
      "_________________________________________________________________\n",
      "Layer (type)                 Output Shape              Param #   \n",
      "=================================================================\n",
      "conv2d_25 (Conv2D)           (None, 18, 8, 64)         1792      \n",
      "_________________________________________________________________\n",
      "conv2d_26 (Conv2D)           (None, 16, 6, 64)         36928     \n",
      "_________________________________________________________________\n",
      "max_pooling2d_25 (MaxPooling (None, 16, 6, 64)         0         \n",
      "_________________________________________________________________\n",
      "dense_49 (Dense)             (None, 16, 6, 64)         4160      \n",
      "_________________________________________________________________\n",
      "conv2d_27 (Conv2D)           (None, 14, 4, 64)         36928     \n",
      "_________________________________________________________________\n",
      "max_pooling2d_26 (MaxPooling (None, 14, 4, 64)         0         \n",
      "_________________________________________________________________\n",
      "dense_50 (Dense)             (None, 14, 4, 64)         4160      \n",
      "_________________________________________________________________\n",
      "conv2d_28 (Conv2D)           (None, 12, 2, 64)         36928     \n",
      "_________________________________________________________________\n",
      "dense_51 (Dense)             (None, 12, 2, 64)         4160      \n",
      "_________________________________________________________________\n",
      "max_pooling2d_27 (MaxPooling (None, 12, 2, 64)         0         \n",
      "_________________________________________________________________\n",
      "dense_52 (Dense)             (None, 12, 2, 64)         4160      \n",
      "_________________________________________________________________\n",
      "max_pooling2d_28 (MaxPooling (None, 12, 2, 64)         0         \n",
      "_________________________________________________________________\n",
      "dense_53 (Dense)             (None, 12, 2, 64)         4160      \n",
      "_________________________________________________________________\n",
      "dropout_7 (Dropout)          (None, 12, 2, 64)         0         \n",
      "_________________________________________________________________\n",
      "dense_54 (Dense)             (None, 12, 2, 64)         4160      \n",
      "_________________________________________________________________\n",
      "flatten_7 (Flatten)          (None, 1536)              0         \n",
      "_________________________________________________________________\n",
      "dense_55 (Dense)             (None, 20)                30740     \n",
      "_________________________________________________________________\n",
      "dense_56 (Dense)             (None, 6)                 126       \n",
      "=================================================================\n",
      "Total params: 168,402\n",
      "Trainable params: 168,402\n",
      "Non-trainable params: 0\n",
      "_________________________________________________________________\n"
     ]
    }
   ],
   "source": [
    "def make_model(state, action_size):\n",
    "    model = keras.Sequential()\n",
    "    model.add(keras.layers.Conv2D(64, kernel_size=(3, 3), activation='relu',\n",
    "                                    input_shape=[state.shape[0],\n",
    "                                                 state.shape[1],\n",
    "                                                 state.shape[2]]))\n",
    "    model.add(keras.layers.Conv2D(64, (3, 3), activation='relu'))\n",
    "    model.add(keras.layers.MaxPooling2D(pool_size=(1, 1)))\n",
    "    model.add(keras.layers.Dense(64, activation='relu'))\n",
    "    model.add(keras.layers.Conv2D(64, (3, 3), activation='relu'))\n",
    "    model.add(keras.layers.MaxPooling2D(pool_size=(1, 1)))\n",
    "    model.add(keras.layers.Dense(64, activation='relu'))\n",
    "    model.add(keras.layers.Conv2D(64, (3, 3), activation='relu'))\n",
    "    model.add(keras.layers.Dense(64, activation='relu'))\n",
    "    model.add(keras.layers.MaxPooling2D(pool_size=(1, 1)))\n",
    "    model.add(keras.layers.Dense(64, activation='relu'))\n",
    "    model.add(keras.layers.MaxPooling2D(pool_size=(1, 1)))\n",
    "    model.add(keras.layers.Dense(64, activation='relu'))\n",
    "    model.add(keras.layers.Dropout(0.2))\n",
    "    model.add(keras.layers.Dense(64, activation='relu'))\n",
    "    model.add(keras.layers.Flatten())\n",
    "    model.add(keras.layers.Dense(20, activation='relu'))\n",
    "    model.add(keras.layers.Dense(action_size, activation='linear'))\n",
    "    model.compile(loss='mse',optimizer=keras.optimizers.Adam(lr=0.002))\n",
    "    return model\n",
    "\n",
    "model = make_model(resize(observation,downsize), \n",
    "                   action_space)\n",
    "model.summary()"
   ]
  },
  {
   "cell_type": "code",
   "execution_count": 84,
   "metadata": {},
   "outputs": [],
   "source": [
    "class ReplayMemory:\n",
    "    def __init__(self, memory_size, state_size, action_size):\n",
    "        self.state_size = [state_size.shape[0], state_size.shape[1], state_size.shape[2]]\n",
    "        self.action_size = action_size\n",
    "        self.size = 0\n",
    "        self.maxsize = memory_size\n",
    "        self.current_index = 0\n",
    "        self.current_state = np.zeros([memory_size, \n",
    "                                       self.state_size[0], \n",
    "                                       self.state_size[1], \n",
    "                                       self.state_size[2]])\n",
    "        self.action = [0]*memory_size # Remember, actions are integers...\n",
    "        self.reward = np.zeros([memory_size])\n",
    "        self.next_state = np.zeros([memory_size, \n",
    "                                    self.state_size[0], \n",
    "                                    self.state_size[1],\n",
    "                                    self.state_size[2]])\n",
    "        self.done = [False]*memory_size # Boolean (terminal transition?)\n",
    "        \n",
    "    def remember(self, current_state, action, reward, next_state, done):\n",
    "        # Stores a single memory item\n",
    "        self.current_state[self.current_index,:] = current_state\n",
    "        self.action[self.current_index] = action\n",
    "        self.reward[self.current_index] = reward\n",
    "        self.next_state[self.current_index,:] = next_state\n",
    "        self.done[self.current_index] = done\n",
    "        self.current_index = (self.current_index+1)%self.maxsize\n",
    "        self.size = max(self.current_index,self.size)\n",
    "    \n",
    "    def replay(self, model, target_model, num_samples, sample_size, gamma):\n",
    "        # Run replay!\n",
    "        \n",
    "        # Can't train if we don't yet have enough samples to begin with...\n",
    "        if self.size < sample_size:\n",
    "            return\n",
    "        \n",
    "        for i in range(num_samples):\n",
    "            # Select sample_size memory indices from the whole set\n",
    "            current_sample = np.random.choice(self.size,sample_size,replace=False)\n",
    "            \n",
    "            # Slice memory into training sample\n",
    "            current_state = self.current_state[current_sample,:]\n",
    "            action = [self.action[j] for j in current_sample]\n",
    "            reward = self.reward[current_sample]\n",
    "            next_state = self.next_state[current_sample,:]\n",
    "            done = [self.done[j] for j in current_sample]\n",
    "            if current_state.size == obs_size:\n",
    "                model_targets = model.predict(resize(current_state, downsize))\n",
    "                # Create targets from argmax(Q(s+1,a+1))\n",
    "                # Use the target model!\n",
    "                print(next_state.size)\n",
    "                targets = reward + gamma*np.amax(target_model.predict(next_state,axis=1))\n",
    "\n",
    "                # Absorb the reward on terminal state-action transitions\n",
    "                targets[done] = reward[done]\n",
    "                # Update just the relevant parts of the model_target vector...\n",
    "                model_targets[range(sample_size),action] = targets\n",
    "\n",
    "                # Update the weights accordingly\n",
    "                model.fit(resize(current_state, downsize),model_targets,\n",
    "                          epochs=1,verbose=0,batch_size=sample_size)\n",
    "            else:\n",
    "                continue\n",
    "\n",
    "            # Once we have finished training, update the target model\n",
    "            target_model.set_weights(model.get_weights())"
   ]
  },
  {
   "cell_type": "code",
   "execution_count": 85,
   "metadata": {},
   "outputs": [],
   "source": [
    "from collections import deque\n",
    "\n",
    "# Hyperparameters\n",
    "gamma = 0.95\n",
    "epsilon = 1.0\n",
    "epsilon2 = 0.2\n",
    "epsilon_decay = 0.9999\n",
    "epsilon_min = 0.15\n",
    "episodes = 30000\n",
    "\n",
    "replay_iterations = 100\n",
    "replay_sample_size = 1024\n",
    "\n",
    "# Peformance stats\n",
    "times_window = deque(maxlen=100)\n",
    "mean_times = deque(maxlen=episodes)\n",
    "rewards = deque(maxlen=episodes)\n",
    "epsilons = deque(maxlen=episodes)\n",
    "\n",
    "# Initialize the environment and agent data structures\n",
    "env = gym.make('Tetris-v0')\n",
    "observation = env.reset()\n",
    "resized_obs = resize(observation[17:423,7:212],downsize)\n",
    "model = make_model(resized_obs, action_space)\n",
    "target_model = make_model(resized_obs, action_space)\n",
    "memory = ReplayMemory(500000, resized_obs, action_space)"
   ]
  },
  {
   "cell_type": "code",
   "execution_count": 8,
   "metadata": {},
   "outputs": [],
   "source": [
    "model.load_weights('weights.h5')"
   ]
  },
  {
   "cell_type": "code",
   "execution_count": 127,
   "metadata": {},
   "outputs": [],
   "source": [
    "#Run this when display surface quit\n",
    "env = gym.make('Tetris-v0')\n",
    "observation = env.reset()"
   ]
  },
  {
   "cell_type": "code",
   "execution_count": 128,
   "metadata": {},
   "outputs": [],
   "source": [
    "model.save_weights('weights.h5')"
   ]
  },
  {
   "cell_type": "code",
   "execution_count": null,
   "metadata": {},
   "outputs": [
    {
     "name": "stdout",
     "output_type": "stream",
     "text": [
      "Episode 682/30000 - time: 847, mean-time: 863, epsilon: 0.348070, reward: -11.06, Average Q: 0.650137, Max Q: 2.08956, Min Q: -0.834781, Cleared: 0"
     ]
    }
   ],
   "source": [
    "done = False\n",
    "# Perform the training!\n",
    "for episode in range(episodes):\n",
    "    current_state = env.reset()\n",
    "    current_state = current_state[17:423,7:212]\n",
    "    time = 0\n",
    "    total_reward = 0.0\n",
    "    total_Q = 0\n",
    "    max_Q=0\n",
    "    min_Q=0\n",
    "    height=0\n",
    "    total_score = 0.0\n",
    "    cleared=0\n",
    "    while not done:\n",
    "        time += 1\n",
    "        Q = model.predict(np.expand_dims(resize(current_state, downsize), axis=0)) # Compute Q\n",
    "        #if time > 0.6*mean_time:\n",
    "        #    maxQ = 0.9*Q[0][np.argmax(Q)]\n",
    "        #    for i in range(0,action_space):\n",
    "        #        Q[0][i] += maxQ\n",
    "        #else:\n",
    "        maxQ=0\n",
    "        action = np.random.choice(action_space) if np.random.random() < epsilon else np.argmax(Q)\n",
    "        next_state, reward, done, info = env.step(action) # take action!\n",
    "        next_height=info['height']\n",
    "        if next_height > 10:\n",
    "            done=True\n",
    "        elif height < next_height:\n",
    "            reward-=0.1*pow((next_height-height),2)\n",
    "            height=next_height\n",
    "        elif next_height < height:\n",
    "            reward+=0.2*pow((next_height-height),2)\n",
    "            height=next_height\n",
    "            cleared+=1\n",
    "        total_score+=info['score']\n",
    "        \n",
    "        if done:\n",
    "            reward -= 25.0\n",
    "        reward += 0.02\n",
    "        total_reward += reward\n",
    "        curr_Q = Q[0][action]-maxQ\n",
    "        if curr_Q > max_Q:\n",
    "            max_Q = curr_Q\n",
    "        elif not done and curr_Q < min_Q:\n",
    "            min_Q = curr_Q\n",
    "        total_Q += curr_Q\n",
    "        if current_state.size == obs_size:\n",
    "            resize_state = resize(current_state,downsize)\n",
    "            memory.remember(resize_state, action,reward,next_state,done) # Store in memory...\n",
    "        current_state = next_state[17:423,7:212] # Transition to next state!\n",
    "    epsilon = epsilon * epsilon_decay if epsilon > epsilon_min else epsilon_min \n",
    "    times_window.append(time)\n",
    "    mean_time = np.mean(times_window)\n",
    "    mean_times.append(mean_time)\n",
    "    epsilons.append(epsilon)\n",
    "    print('\\rEpisode %d/%d - time: %d, mean-time: %d, epsilon: %f, reward: %g, Average Q: %g, Max Q: %g, Min Q: %g, Cleared: %d'%(episode+1,\n",
    "                                                                                                                                 episodes,\n",
    "                                                                                                                                 time,\n",
    "                                                                                                                                 mean_time,\n",
    "                                                                                                                                 epsilon,\n",
    "                                                                                                                                 total_reward,\n",
    "                                                                                                                                 total_Q/time,\n",
    "                                                                                                                                 max_Q,\n",
    "                                                                                                                                 min_Q,\n",
    "                                                                                                                                 cleared),end='')\n",
    "    done = False\n",
    "    \n",
    "    # Training...\n",
    "    memory.replay(model,target_model,replay_iterations,replay_sample_size,gamma)\n",
    "print()"
   ]
  },
  {
   "cell_type": "code",
   "execution_count": 123,
   "metadata": {},
   "outputs": [
    {
     "data": {
      "image/png": "[encoded data removed]",
      "text/plain": [
       "<Figure size 432x288 with 1 Axes>"
      ]
     },
     "metadata": {
      "needs_background": "light"
     },
     "output_type": "display_data"
    }
   ],
   "source": [
    "plt.plot(mean_times)\n",
    "plt.title(\"Tetris Q-Learning Performance\")\n",
    "plt.xlabel(\"Episode Number\")\n",
    "plt.ylabel(\"Life Span\")\n",
    "plt.show()"
   ]
  },
  {
   "cell_type": "code",
   "execution_count": 124,
   "metadata": {},
   "outputs": [
    {
     "data": {
      "image/png": "[encoded data removed]",
      "text/plain": [
       "<Figure size 432x288 with 1 Axes>"
      ]
     },
     "metadata": {
      "needs_background": "light"
     },
     "output_type": "display_data"
    }
   ],
   "source": [
    "plt.plot(epsilons)\n",
    "plt.ylim(top=1, bottom=0)\n",
    "plt.title(\"Tetris Epsilon Decay\")\n",
    "plt.xlabel(\"Episode Number\")\n",
    "plt.ylabel(\"Epsilon\")\n",
    "plt.show()"
   ]
  },
  {
   "cell_type": "code",
   "execution_count": 120,
   "metadata": {},
   "outputs": [
    {
     "data": {
      "image/png": "[encoded data removed]",
      "text/plain": [
       "<Figure size 432x288 with 1 Axes>"
      ]
     },
     "metadata": {
      "needs_background": "light"
     },
     "output_type": "display_data"
    }
   ],
   "source": [
    "# Test out the agent!\n",
    "# Initialize the environment and let the agent decide how to act!\n",
    "env = gym.make('Tetris-v0')\n",
    "observation = env.reset()\n",
    "done = False\n",
    "time = 0\n",
    "reward = 0.0\n",
    "while not done:\n",
    "    observation = observation[17:423,7:212]\n",
    "    obs = resize(observation,downsize)\n",
    "    plt.imshow(obs)\n",
    "    plt.title(\"%s | Time: %d | Reward: %f\" % (env.spec.id, time, reward))\n",
    "    clear_output(wait=True)\n",
    "    Q = model.predict(np.expand_dims(obs,axis=0))\n",
    "    #action = np.argmax(Q)\n",
    "    action = np.random.choice(action_space) if np.random.random() < epsilon else np.argmax(Q)    \n",
    "    observation, reward, done, info = env.step(action)\n",
    "    if (done):\n",
    "        break\n",
    "    time+=1\n",
    "clear_output(wait=True)"
   ]
  },
  {
   "cell_type": "code",
   "execution_count": null,
   "metadata": {},
   "outputs": [],
   "source": [
    "done = False\n",
    "result_times = deque(maxlen=25)\n",
    "for episode in range(0,25):\n",
    "    current_state = env.reset()\n",
    "    current_state = current_state[17:423,7:212]\n",
    "    result_time = 0\n",
    "    while not done:\n",
    "        result_time += 1\n",
    "        Q = model.predict(np.expand_dims(resize(current_state, downsize), axis=0)) # Compute Q\n",
    "        action = np.argmax(Q)\n",
    "        next_state, reward, done, info = env.step(action) # take action!\n",
    "        next_state = resize(next_state[17:423,7:212], downsize)\n",
    "        current_state = next_state # Transition to next state!\n",
    "    result_times.append(result_time)\n",
    "    mean_result = np.mean(result_times)\n",
    "    done = False\n",
    "    print('\\rRun: %d'%(episode+1),end='')\n",
    "print('\\nDone, mean-time: %d'%(mean_result))"
   ]
  },
  {
   "cell_type": "code",
   "execution_count": 139,
   "metadata": {},
   "outputs": [
    {
     "data": {
      "image/png": "[encoded data removed]",
      "text/plain": [
       "<Figure size 432x288 with 1 Axes>"
      ]
     },
     "metadata": {
      "needs_background": "light"
     },
     "output_type": "display_data"
    }
   ],
   "source": [
    "plt.plot(result_times)\n",
    "plt.title(\"Tetris Q-Learning Performance\")\n",
    "plt.xlabel(\"Episode Number\")\n",
    "plt.ylabel(\"Life Span\")\n",
    "plt.show()"
   ]
  },
  {
   "cell_type": "code",
   "execution_count": null,
   "metadata": {},
   "outputs": [],
   "source": []
  }
 ],
 "metadata": {
  "kernelspec": {
   "display_name": "Python 3",
   "language": "python",
   "name": "python3"
  },
  "language_info": {
   "codemirror_mode": {
    "name": "ipython",
    "version": 3
   },
   "file_extension": ".py",
   "mimetype": "text/x-python",
   "name": "python",
   "nbconvert_exporter": "python",
   "pygments_lexer": "ipython3",
   "version": "3.6.7"
  }
 },
 "nbformat": 4,
 "nbformat_minor": 2
}
