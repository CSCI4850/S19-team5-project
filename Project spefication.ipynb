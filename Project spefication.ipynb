{
 "cells": [
  {
   "cell_type": "markdown",
   "metadata": {},
   "source": [
    "### Part 2 - Project Milestones\n",
    "#### Puran Nepal, David Justice, Daniel Chang, Yousaf Khaliq"
   ]
  },
  {
   "cell_type": "markdown",
   "metadata": {},
   "source": [
    "#### Deliverable &emsp; Percent Complete &emsp; Estimated Completion Date &emsp; Percent Complete by Next Milestone\n",
    "<hr>\n",
    "\n",
    "&emsp; Code &emsp;&emsp;&emsp;&emsp;&emsp;&emsp;&emsp;&emsp; 10% &emsp;&emsp;&emsp;&emsp;&emsp;&emsp;&emsp;&emsp; April. 5 &emsp;&emsp;&emsp;&emsp;&emsp;&emsp;&emsp;&emsp;&emsp;&emsp;&emsp;&emsp;&emsp;&emsp;&emsp;&emsp;&emsp; 45%<br>\n",
    "\n",
    "\n",
    "&emsp; Paper &emsp;&emsp;&emsp;&emsp;&emsp;&emsp;&emsp;&emsp;0% &emsp;&emsp;&emsp;&emsp;&emsp;&emsp;&emsp;&emsp; April. 20 &emsp;&emsp;&emsp;&emsp;&emsp;&emsp;&emsp;&emsp;&emsp;&emsp;&emsp;&emsp;&emsp;&emsp;&emsp;&emsp;&emsp; 10%<br>\n",
    "\n",
    "\n",
    "&emsp; Demo &emsp;&emsp;&emsp;&emsp;&emsp;&emsp;&emsp;&emsp;0% &emsp;&emsp;&emsp;&emsp;&emsp;&emsp;&emsp;&emsp; April. 26 &emsp;&emsp;&emsp;&emsp;&emsp;&emsp;&emsp;&emsp;&emsp;&emsp;&emsp;&emsp;&emsp;&emsp;&emsp;&emsp;&emsp; 35%<br>\n",
    "\n",
    "\n",
    "Presentation &emsp;&emsp;&emsp;&emsp;&emsp;&emsp;0% &emsp;&emsp;&emsp;&emsp;&emsp;&emsp;&emsp;&emsp;&emsp; May 1 &emsp;&emsp;&emsp;&emsp;&emsp;&emsp;&emsp;&emsp;&emsp;&emsp;&emsp;&emsp;&emsp;&emsp;&emsp;&emsp;&emsp;&emsp;0%"
   ]
  },
  {
   "cell_type": "markdown",
   "metadata": {},
   "source": [
    "Firstly, we have changed our project which was to build a Neural Network for playing Chess.  Instead of chess, we will be working on a Neural Network for playing Tetris.  Particularly, the Neural Network will use Q-learning algorithm. We already have found all the relevant research papers and resources to build this Project. \n",
    "\n",
    "1. We haven't accomplished most of the goal stated in the last milestone, because we had to change the central aim of the project. We had planned to work on chess problems and we didn't think through the enormity the project. Moreover, we couldn't find enough resources for chess.  Hence, we have moved on to much more feasible and similar project.\n",
    "\n",
    "2. We didn't build code for the chess. We have changed our demo, as well. We didn't accomplish most of the goals from the previous milestone.\n",
    "\n",
    "3. We already have a working architecture that can be easily implemented via Keras. We also figured out the mechanism through which we can actually train the Network. We will be using the class's shared Jupyter notebook example for Q-learning algorithm, as well as working with python gym. We will use this ANN with a bot to play online Tetris games. "
   ]
  }
 ],
 "metadata": {
  "kernelspec": {
   "display_name": "Python 3",
   "language": "python",
   "name": "python3"
  },
  "language_info": {
   "codemirror_mode": {
    "name": "ipython",
    "version": 3
   },
   "file_extension": ".py",
   "mimetype": "text/x-python",
   "name": "python",
   "nbconvert_exporter": "python",
   "pygments_lexer": "ipython3",
   "version": "3.6.6"
  }
 },
 "nbformat": 4,
 "nbformat_minor": 2
}
