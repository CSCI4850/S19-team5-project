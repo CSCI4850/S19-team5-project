{
 "cells": [
  {
   "cell_type": "markdown",
   "metadata": {},
   "source": [
    "### Part 2-3 - Project Milestones\n",
    "#### Puran Nepal, David Justice, Daniel Chang, Yousaf Khaliq"
   ]
  },
  {
   "cell_type": "markdown",
   "metadata": {},
   "source": [
    "#### Deliverable &emsp; Percent Complete &emsp; Estimated Completion Date &emsp; Percent Complete by Next Milestone\n",
    "<hr>\n",
    "\n",
    "&emsp; Code &emsp;&emsp;&emsp;&emsp;&emsp;&emsp;&emsp;&emsp;95% &emsp;&emsp;&emsp;&emsp;&emsp;&emsp;&emsp;&emsp; April. 14 &emsp;&emsp;&emsp;&emsp;&emsp;&emsp;&emsp;&emsp;&emsp;&emsp;&emsp;&emsp;&emsp;&emsp;&emsp;&emsp;&emsp; 100%<br>\n",
    "\n",
    "\n",
    "&emsp; Paper &emsp;&emsp;&emsp;&emsp;&emsp;&emsp;&emsp;&emsp;25% &emsp;&emsp;&emsp;&emsp;&emsp;&emsp;&emsp;&emsp; April. 21 &emsp;&emsp;&emsp;&emsp;&emsp;&emsp;&emsp;&emsp;&emsp;&emsp;&emsp;&emsp;&emsp;&emsp;&emsp;&emsp;&emsp; 100%<br>\n",
    "\n",
    "\n",
    "&emsp; Demo &emsp;&emsp;&emsp;&emsp;&emsp;&emsp;&emsp;&emsp;5% &emsp;&emsp;&emsp;&emsp;&emsp;&emsp;&emsp;&emsp; April. 26 &emsp;&emsp;&emsp;&emsp;&emsp;&emsp;&emsp;&emsp;&emsp;&emsp;&emsp;&emsp;&emsp;&emsp;&emsp;&emsp;&emsp;&emsp;75%<br>\n",
    "\n",
    "\n",
    "Presentation &emsp;&emsp;&emsp;&emsp;&emsp;&emsp;5% &emsp;&emsp;&emsp;&emsp;&emsp;&emsp;&emsp;&emsp;&emsp; May 1 &emsp;&emsp;&emsp;&emsp;&emsp;&emsp;&emsp;&emsp;&emsp;&emsp;&emsp;&emsp;&emsp;&emsp;&emsp;&emsp;&emsp;&emsp;75%"
   ]
  },
  {
   "cell_type": "markdown",
   "metadata": {},
   "source": [
    "1. The demo and presentation was anticipated to be 5% complete by this milestone and that was achieved.\n",
    "\n",
    "2. The code was anticipated to be 100% complete but we just have a few tweaks to make to the code followed by more training so it is very close to being complete. The paper is in its initial stages with the intro/background done but a little less was accomplished than anticipated. The team still believes we can reach 100% by the completion date.\n",
    "\n",
    "3. Our tasks are still to be completed by the same team members. The final touches on the code will be completed by Puran and Daniel with David and Yousaf acting as secondary input (reviewal/training). We hope to have the paper completed by the next milestone with David acting as primary, Yousaf as secondary, and Puran/Daniel as reviewers. We will all be contributing towards the demo which we hope to just get a 75% done by the next milestone. Yousaf will be acting as primary for the presentation (preparing slides, doing the 5 minute intro, delegating/organizing the rest of the presentation) with the rest of the group acting as secondary. 75% of the presentation is expected to be complete by the next milestone. "
   ]
  }
 ],
 "metadata": {
  "kernelspec": {
   "display_name": "Python 3",
   "language": "python",
   "name": "python3"
  },
  "language_info": {
   "codemirror_mode": {
    "name": "ipython",
    "version": 3
   },
   "file_extension": ".py",
   "mimetype": "text/x-python",
   "name": "python",
   "nbconvert_exporter": "python",
   "pygments_lexer": "ipython3",
   "version": "3.6.8"
  }
 },
 "nbformat": 4,
 "nbformat_minor": 2
}
