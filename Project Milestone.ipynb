{
 "cells": [
  {
   "cell_type": "markdown",
   "metadata": {},
   "source": [
    "### Part 2-4 - Project Milestones\n",
    "#### Puran Nepal, David Justice, Daniel Chang, Yousaf Khaliq"
   ]
  },
  {
   "cell_type": "markdown",
   "metadata": {},
   "source": [
    "#### Deliverable &emsp; Percent Complete &emsp; Estimated Completion Date &emsp; Percent Complete by Next Milestone\n",
    "<hr>\n",
    "\n",
    "&emsp; Code &emsp;&emsp;&emsp;&emsp;&emsp;&emsp;&emsp;&emsp;100%<br>\n",
    "\n",
    "\n",
    "&emsp; Paper &emsp;&emsp;&emsp;&emsp;&emsp;&emsp;&emsp;&emsp;100% <br>\n",
    "\n",
    "\n",
    "&emsp; Demo &emsp;&emsp;&emsp;&emsp;&emsp;&emsp;&emsp;&emsp;50% &emsp;&emsp;&emsp;&emsp;&emsp;&emsp;&emsp;&emsp; May 1 &emsp;&emsp;&emsp;&emsp;&emsp;&emsp;&emsp;&emsp;&emsp;&emsp;&emsp;&emsp;&emsp;&emsp;&emsp;&emsp;&emsp;&emsp;100%<br>\n",
    "\n",
    "\n",
    "Presentation &emsp;&emsp;&emsp;&emsp;&emsp;&emsp;100% &emsp;&emsp;&emsp;&emsp;&emsp;&emsp;&emsp;&emsp;&emsp; May 1 &emsp;&emsp;&emsp;&emsp;&emsp;&emsp;&emsp;&emsp;&emsp;&emsp;&emsp;&emsp;&emsp;&emsp;&emsp;&emsp;&emsp;&emsp;100%"
   ]
  },
  {
   "cell_type": "markdown",
   "metadata": {},
   "source": [
    "1. The paper and the code has been completed as anticipated.\n",
    "\n",
    "2. We spent a little more time on the paper so we didn’t get as far on the demo and presentation as we had hoped. We all also had many other projects and exams for other classes, but this is no worry as we now have plenty of time to reach our goal of 100% by May 1.\n",
    "\n",
    "3. We will all be contributing towards the demo with Puran acting as primary. Yousaf will be acting as primary for the presentation (preparing slides, doing the 5 minute intro, delegating/organizing the rest of the presentation) with the rest of the group acting as secondary. 75% of the presentation is expected to be complete by April 30 then the rest to be completed the following day.\n "
   ]
  }
 ],
 "metadata": {
  "kernelspec": {
   "display_name": "Python 3",
   "language": "python",
   "name": "python3"
  },
  "language_info": {
   "codemirror_mode": {
    "name": "ipython",
    "version": 3
   },
   "file_extension": ".py",
   "mimetype": "text/x-python",
   "name": "python",
   "nbconvert_exporter": "python",
   "pygments_lexer": "ipython3",
   "version": "3.6.8"
  }
 },
 "nbformat": 4,
 "nbformat_minor": 2
}
