{
 "cells": [
  {
   "cell_type": "markdown",
   "metadata": {},
   "source": [
    "### Part 2-2 - Project Milestones\n",
    "#### Puran Nepal, David Justice, Daniel Chang, Yousaf Khaliq"
   ]
  },
  {
   "cell_type": "markdown",
   "metadata": {},
   "source": [
    "#### Deliverable &emsp; Percent Complete &emsp; Estimated Completion Date &emsp; Percent Complete by Next Milestone\n",
    "<hr>\n",
    "\n",
    "&emsp; Code &emsp;&emsp;&emsp;&emsp;&emsp;&emsp;&emsp;&emsp;66% &emsp;&emsp;&emsp;&emsp;&emsp;&emsp;&emsp;&emsp; April. 5 &emsp;&emsp;&emsp;&emsp;&emsp;&emsp;&emsp;&emsp;&emsp;&emsp;&emsp;&emsp;&emsp;&emsp;&emsp;&emsp;&emsp; 100%<br>\n",
    "\n",
    "\n",
    "&emsp; Paper &emsp;&emsp;&emsp;&emsp;&emsp;&emsp;&emsp;&emsp;0% &emsp;&emsp;&emsp;&emsp;&emsp;&emsp;&emsp;&emsp; April. 20 &emsp;&emsp;&emsp;&emsp;&emsp;&emsp;&emsp;&emsp;&emsp;&emsp;&emsp;&emsp;&emsp;&emsp;&emsp;&emsp;&emsp; 33%<br>\n",
    "\n",
    "\n",
    "&emsp; Demo &emsp;&emsp;&emsp;&emsp;&emsp;&emsp;&emsp;&emsp;0% &emsp;&emsp;&emsp;&emsp;&emsp;&emsp;&emsp;&emsp; April. 26 &emsp;&emsp;&emsp;&emsp;&emsp;&emsp;&emsp;&emsp;&emsp;&emsp;&emsp;&emsp;&emsp;&emsp;&emsp;&emsp;&emsp;&emsp;5%<br>\n",
    "\n",
    "\n",
    "Presentation &emsp;&emsp;&emsp;&emsp;&emsp;&emsp;0% &emsp;&emsp;&emsp;&emsp;&emsp;&emsp;&emsp;&emsp;&emsp; May 1 &emsp;&emsp;&emsp;&emsp;&emsp;&emsp;&emsp;&emsp;&emsp;&emsp;&emsp;&emsp;&emsp;&emsp;&emsp;&emsp;&emsp;&emsp;5%"
   ]
  },
  {
   "cell_type": "markdown",
   "metadata": {},
   "source": [
    "1. In our last milestone report, we had abruptly switched from chess to tetris and thus our milestone report was lacking a concrete layout of goals. We knew we were going to use a Q learning algorithm and we had relevant resources to build the network. Since then, the team was able to obtain a stronger grasp on Q learning and the mechanics of Tetris in relation to our vision for coding. We were able to get about 66% of the code completed (anticipated 45%). The team also reassessed our milestone report to reflect a strategy with a steady, consistent effort made towards our goals.\n",
    "\n",
    "2. No progress was made on the paper, demo, and presentation (10%, 35%, 0% respectively).\n",
    "\n",
    "3. The code will be primarily completed by Puran and Daniel with David and Yousaf acting as secondary input (reviewal/training). We hope to have the paper 33% completed by the next milestone with David acting as primary, Yousaf as secondary, and Puran/Daniel as reviewers. We will all be contributing towards the demo which we hope to just get a small piece done by the next milestone. Just something to start us off to build upon soon after the paper is completed. Yousaf will be acting as primary for the presentation (preparing slides, doing the 5 minute intro, delegating/organizing the rest of the presentation) with the rest of the group acting as secondary. Yousaf will also be updating the milestone reports as the project unfolds."
   ]
  }
 ],
 "metadata": {
  "kernelspec": {
   "display_name": "Python 3",
   "language": "python",
   "name": "python3"
  },
  "language_info": {
   "codemirror_mode": {
    "name": "ipython",
    "version": 3
   },
   "file_extension": ".py",
   "mimetype": "text/x-python",
   "name": "python",
   "nbconvert_exporter": "python",
   "pygments_lexer": "ipython3",
   "version": "3.6.8"
  }
 },
 "nbformat": 4,
 "nbformat_minor": 2
}
