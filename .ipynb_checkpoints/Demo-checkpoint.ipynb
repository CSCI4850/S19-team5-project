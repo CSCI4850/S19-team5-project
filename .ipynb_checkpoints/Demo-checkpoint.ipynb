{
 "cells": [
  {
   "cell_type": "markdown",
   "metadata": {},
   "source": [
    "## Demo"
   ]
  },
  {
   "cell_type": "markdown",
   "metadata": {},
   "source": [
    "For this project, we will use the exact same tools we use in our Neural Network class, except for the Python Gym. The Gym is a module developed by the OpenAI, it lets us use game environments for training the reinforcement algorithm. The Gym supplies us with State (environment), rewards and actions for training our ANN. Particularly, We will be working with the Q-learning Algorithm. We will be using traning network for this demo and exclude the traning expect of since it take more than a day to complete the training, instead we will focus on how to run our train model."
   ]
  },
  {
   "cell_type": "code",
   "execution_count": 1,
   "metadata": {},
   "outputs": [
    {
     "name": "stdout",
     "output_type": "stream",
     "text": [
      "pygame 1.9.4\n",
      "Hello from the pygame community. https://www.pygame.org/contribute.html\n"
     ]
    },
    {
     "name": "stderr",
     "output_type": "stream",
     "text": [
      "Using TensorFlow backend.\n"
     ]
    }
   ],
   "source": [
    "\n",
    "# OpenAI Gym\n",
    "import gym_tetris as gym\n",
    "import gym.spaces\n",
    "import numpy as np\n",
    "import keras\n",
    "\n",
    "# Rendering tools\n",
    "import matplotlib.pyplot as plt\n",
    "%matplotlib inline\n",
    "from IPython.display import display\n",
    "from IPython.display import clear_output\n",
    "import cv2"
   ]
  },
  {
   "cell_type": "markdown",
   "metadata": {},
   "source": [
    "Firstly, we note that the state given by 'observation' is a 3-tensor with 430x330 dimension and 3 for color. We will use this state as input and use a convolutional neural network to detect pieces in the screen, which renders us with millions of parameters making the network extremely slow and difficult to train. To resolve this, we will change transform it to grey image and downsize it to 10x20x3. "
   ]
  },
  {
   "cell_type": "code",
   "execution_count": 2,
   "metadata": {},
   "outputs": [],
   "source": [
    "env = gym.make('Tetris-v0')\n",
    "downsize = (10,20)\n",
    "observation=env.reset()"
   ]
  },
  {
   "cell_type": "markdown",
   "metadata": {},
   "source": [
    "To downsize the observation, we use cv2 module. To make it undemanding, we have build this function that downsizes the observation."
   ]
  },
  {
   "cell_type": "code",
   "execution_count": 3,
   "metadata": {},
   "outputs": [],
   "source": [
    "def resize(img,downsize):\n",
    "    resized = cv2.resize(img,\n",
    "                         dsize=downsize,\n",
    "                         interpolation=cv2.INTER_CUBIC)\n",
    "    return resized"
   ]
  },
  {
   "cell_type": "code",
   "execution_count": 4,
   "metadata": {},
   "outputs": [
    {
     "data": {
      "text/plain": [
       "(20, 10, 3)"
      ]
     },
     "metadata": {},
     "output_type": "display_data"
    },
    {
     "data": {
      "text/plain": [
       "600"
      ]
     },
     "metadata": {},
     "output_type": "display_data"
    },
    {
     "data": {
      "text/plain": [
       "6"
      ]
     },
     "metadata": {},
     "output_type": "display_data"
    }
   ],
   "source": [
    "resized_observation = resize(observation[17:423,7:212],downsize)\n",
    "in_size = resized_observation.shape\n",
    "obs_size = resized_observation.size\n",
    "action_space = 6\n",
    "display(in_size)\n",
    "display(obs_size)\n",
    "display(action_space)"
   ]
  },
  {
   "cell_type": "markdown",
   "metadata": {},
   "source": [
    "Finally, we will use convolutional neural network for our model. The input is (20, 10, 3) tensor which is the state of the game. Convolutional NN is best for this problem because Convolutional NN is optimal for detecting pieces. Our network follows a very conventional method which is convolution by 3x3 kernal, convolution, maxpool and dense. Then we use regular fully connected NN going from 64 to 20. This model outputs array of length 6. Output represents the Q values that we learned in the class. We will choose the maximum Q value for the action."
   ]
  },
  {
   "cell_type": "code",
   "execution_count": 5,
   "metadata": {},
   "outputs": [
    {
     "name": "stdout",
     "output_type": "stream",
     "text": [
      "_________________________________________________________________\n",
      "Layer (type)                 Output Shape              Param #   \n",
      "=================================================================\n",
      "conv2d_1 (Conv2D)            (None, 1, 1, 64)          38464     \n",
      "_________________________________________________________________\n",
      "dense_1 (Dense)              (None, 1, 1, 64)          4160      \n",
      "_________________________________________________________________\n",
      "dropout_1 (Dropout)          (None, 1, 1, 64)          0         \n",
      "_________________________________________________________________\n",
      "dense_2 (Dense)              (None, 1, 1, 64)          4160      \n",
      "_________________________________________________________________\n",
      "flatten_1 (Flatten)          (None, 64)                0         \n",
      "_________________________________________________________________\n",
      "dense_3 (Dense)              (None, 20)                1300      \n",
      "_________________________________________________________________\n",
      "dense_4 (Dense)              (None, 6)                 126       \n",
      "=================================================================\n",
      "Total params: 48,210\n",
      "Trainable params: 48,210\n",
      "Non-trainable params: 0\n",
      "_________________________________________________________________\n"
     ]
    }
   ],
   "source": [
    "def make_model(state, action_size):\n",
    "    model = keras.Sequential()\n",
    "    model.add(keras.layers.Conv2D(64, kernel_size=(20, 10), activation='relu',\n",
    "                                    input_shape=[state.shape[0],\n",
    "                                                 state.shape[1],\n",
    "                                                 state.shape[2]]))\n",
    "    model.add(keras.layers.Dense(64, activation='relu'))\n",
    "    model.add(keras.layers.Dropout(0.2))\n",
    "    model.add(keras.layers.Dense(64, activation='relu'))\n",
    "    model.add(keras.layers.Flatten())\n",
    "    model.add(keras.layers.Dense(20, activation='relu'))\n",
    "    model.add(keras.layers.Dense(action_size, activation='linear'))\n",
    "    model.compile(loss='mse',optimizer=keras.optimizers.Adam(lr=0.001))\n",
    "    return model\n",
    "\n",
    "model = make_model(resize(observation,downsize), \n",
    "                   action_space)\n",
    "model.summary()"
   ]
  },
  {
   "cell_type": "markdown",
   "metadata": {},
   "source": [
    "One of the key aspect of the Q-learning is the Replay Memory. Replay Memory stores the state, action and the reward associated with that action. Firstly, we initialize the class ReplayMemory using __init__ function. We store state in the self.current_state array which is of the same dimension as our observation. Actions and rewards are stored in self.action and self.reward arrays respective.  "
   ]
  },
  {
   "cell_type": "code",
   "execution_count": 6,
   "metadata": {},
   "outputs": [],
   "source": [
    "class ReplayMemory:\n",
    "    def __init__(self, memory_size, state_size, action_size):\n",
    "        self.state_size = [state_size.shape[0], state_size.shape[1], state_size.shape[2]]\n",
    "        self.action_size = action_size\n",
    "        self.size = 0\n",
    "        self.maxsize = memory_size\n",
    "        self.current_index = 0\n",
    "        self.current_state = np.zeros([memory_size, \n",
    "                                       self.state_size[0], \n",
    "                                       self.state_size[1], \n",
    "                                       self.state_size[2]])\n",
    "        self.action = [0]*memory_size # Remember, actions are integers...\n",
    "        self.reward = np.zeros([memory_size])\n",
    "        self.next_state = np.zeros([memory_size, \n",
    "                                    self.state_size[0], \n",
    "                                    self.state_size[1],\n",
    "                                    self.state_size[2]])\n",
    "        self.done = [False]*memory_size # Boolean (terminal transition?)\n",
    "        \n",
    "    def remember(self, current_state, action, reward, next_state, done):\n",
    "    # Stores a single memory item\n",
    "        self.current_state[self.current_index,:] = current_state\n",
    "        self.action[self.current_index] = action\n",
    "        self.reward[self.current_index] = reward\n",
    "        self.next_state[self.current_index,:] = next_state\n",
    "        self.done[self.current_index] = done\n",
    "        self.current_index = (self.current_index+1)%self.maxsize\n",
    "        self.size = max(self.current_index,self.size)\n",
    "    \n",
    "    def replay(self, model, target_model, num_samples, sample_size, gamma):\n",
    "        # Run replay!\n",
    "        \n",
    "        # Can't train if we don't yet have enough samples to begin with...\n",
    "        if self.size < sample_size:\n",
    "            return\n",
    "        \n",
    "        for i in range(num_samples):\n",
    "            # Select sample_size memory indices from the whole set\n",
    "            current_sample = np.random.choice(self.size,sample_size,replace=False)\n",
    "            \n",
    "            # Slice memory into training sample\n",
    "            current_state = self.current_state[current_sample,:]\n",
    "            action = [self.action[j] for j in current_sample]\n",
    "            reward = self.reward[current_sample]\n",
    "            next_state = self.next_state[current_sample,:]\n",
    "            done = [self.done[j] for j in current_sample]\n",
    "            model_targets = model.predict(current_state)\n",
    "            # Create targets from argmax(Q(s+1,a+1))\n",
    "            # Use the target model!\n",
    "            targets = reward + gamma*np.amax(target_model.predict(next_state),axis=1)\n",
    "\n",
    "            # Absorb the reward on terminal state-action transitions\n",
    "            targets[done] = reward[done]\n",
    "            # Update just the relevant parts of the model_target vector...\n",
    "            model_targets[range(sample_size),action] = targets\n",
    "\n",
    "            # Update the weights accordingly\n",
    "            model.fit(current_state,model_targets,epochs=1,verbose=0,batch_size=sample_size)\n",
    "\n",
    "        # Once we have finished training, update the target model\n",
    "        target_model.set_weights(model.get_weights())"
   ]
  },
  {
   "cell_type": "code",
   "execution_count": 7,
   "metadata": {},
   "outputs": [],
   "source": [
    "from collections import deque\n",
    "\n",
    "# Hyperparameters\n",
    "gamma = 0.95\n",
    "epsilon = 1\n",
    "epsilon_decay = 0.995\n",
    "epsilon_min = 0.2\n",
    "episodes = 30000\n",
    "\n",
    "\n",
    "replay_iterations = 50\n",
    "replay_sample_size = 1024\n",
    "\n",
    "# Peformance stats\n",
    "times_window = deque(maxlen=100)\n",
    "mean_times = deque(maxlen=episodes)\n",
    "rewards = deque(maxlen=episodes)\n",
    "epsilons = deque(maxlen=episodes)\n",
    "max_Qs = deque(maxlen=episodes)\n",
    "min_Qs = deque(maxlen=episodes)\n",
    "avg_Qs = deque(maxlen=episodes)\n",
    "\n",
    "# Initialize the environment and agent data structures\n",
    "env = gym.make('Tetris-v0')\n",
    "observation = env.reset()\n",
    "resized_obs = resize(observation[17:423,7:212],downsize)\n",
    "model = make_model(resized_obs, action_space)\n",
    "target_model = make_model(resized_obs, action_space)\n",
    "memory = ReplayMemory(10000, resized_obs, action_space)"
   ]
  },
  {
   "cell_type": "markdown",
   "metadata": {},
   "source": [
    "For this part of the code, you will need to download the weight from the our github website. https://github.com/CSCI4850/S19-team5-project/blob/master/weights.h5. "
   ]
  },
  {
   "cell_type": "code",
   "execution_count": 8,
   "metadata": {},
   "outputs": [],
   "source": [
    "model.load_weights('weights.h5')"
   ]
  },
  {
   "cell_type": "markdown",
   "metadata": {},
   "source": [
    "Finally, we will run the model. We start by initaiting the gym. Observation give you the state of the game that we will feed into the network. We will let time and reward to equal to zero. We will have to resize the observation for each instance. plt.imsho yeilds the downsized state. Finally, we use the max Q value that we aquire from our model. Q value determines the action of the tetris. <br>\n",
    "\n",
    "You can also uncomment the display(plt.gcf()) to watch the model play tetris in the real time. However, ther is a chance of getting display error which we do not know how to fix. "
   ]
  },
  {
   "cell_type": "code",
   "execution_count": 9,
   "metadata": {},
   "outputs": [
    {
     "data": {
      "image/png": "[encoded data removed]",
      "text/plain": [
       "<Figure size 432x288 with 1 Axes>"
      ]
     },
     "metadata": {
      "needs_background": "light"
     },
     "output_type": "display_data"
    }
   ],
   "source": [
    "# Test out the agent!\n",
    "# Initialize the environment and let the agent decide how to act!\n",
    "env.close()\n",
    "env = gym.make('Tetris-v0')\n",
    "observation = env.reset()\n",
    "done = False\n",
    "time = 0\n",
    "reward = 0.0\n",
    "while not done:\n",
    "    if not time%3:\n",
    "        obs = resize(observation[17:423,7:212],downsize)\n",
    "        plt.imshow(obs)\n",
    "        plt.title(\"%s | Time: %d | Reward: %f\" % (env.spec.id, time, reward))\n",
    "        clear_output(wait=True)\n",
    "        Q = model.predict(np.expand_dims(obs,axis=0))\n",
    "        action = np.argmax(Q)\n",
    "        #display(plt.gcf())\n",
    "        observation, reward, done, info = env.step(action)\n",
    "        next_height=info['height']\n",
    "        if (done):\n",
    "            break\n",
    "    else:\n",
    "        action=0\n",
    "        observation, reward, done, info = env.step(action)\n",
    "    time+=1\n",
    "clear_output(wait=True)"
   ]
  }
 ],
 "metadata": {
  "kernelspec": {
   "display_name": "Python 3",
   "language": "python",
   "name": "python3"
  },
  "language_info": {
   "codemirror_mode": {
    "name": "ipython",
    "version": 3
   },
   "file_extension": ".py",
   "mimetype": "text/x-python",
   "name": "python",
   "nbconvert_exporter": "python",
   "pygments_lexer": "ipython3",
   "version": "3.6.6"
  }
 },
 "nbformat": 4,
 "nbformat_minor": 2
}
